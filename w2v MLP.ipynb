{
 "cells": [
  {
   "cell_type": "code",
   "execution_count": 1,
   "metadata": {
    "collapsed": true,
    "deletable": true,
    "editable": true
   },
   "outputs": [],
   "source": [
    "from sklearn.feature_extraction.text import CountVectorizer\n",
    "import pandas as pd\n",
    "from nltk.corpus import stopwords\n",
    "import re\n",
    "from bs4 import BeautifulSoup as bs\n",
    "import numpy as np\n",
    "import matplotlib.pyplot as plt"
   ]
  },
  {
   "cell_type": "code",
   "execution_count": 2,
   "metadata": {
    "collapsed": false,
    "deletable": true,
    "editable": true
   },
   "outputs": [
    {
     "name": "stdout",
     "output_type": "stream",
     "text": [
      "(10724, 4)\n",
      "(2703, 4)\n"
     ]
    }
   ],
   "source": [
    "train = pd.read_csv('train.csv', header=0)\n",
    "test = pd.read_csv('test.csv', header=0)\n",
    "\n",
    "train = train[ train['Stance'] != 'unrelated' ]\n",
    "test = test[ test['Stance'] != 'unrelated' ]\n",
    "print(train.shape)\n",
    "print(test.shape)"
   ]
  },
  {
   "cell_type": "code",
   "execution_count": 3,
   "metadata": {
    "collapsed": true,
    "deletable": true,
    "editable": true
   },
   "outputs": [],
   "source": [
    "def review_to_words(raw_review, remove_stopwords=False):\n",
    "    #Convert the raw review string to a cleaner version taking the steps below\n",
    "    #Why? So that sklearn's CountVectorizer will accept the review data as input\n",
    "    \n",
    "    #remove HTML\n",
    "    review_text = bs(raw_review, \"html.parser\").get_text()\n",
    "    \n",
    "    #remove non-letters\n",
    "    letters_only = re.sub(\"[^a-zA-Z]\", \" \", review_text) \n",
    "    \n",
    "    #convert to lowercase and split into individual words\n",
    "    words = letters_only.lower().split() \n",
    "    \n",
    "    if remove_stopwords:\n",
    "        #convert stopwords to a set\n",
    "        stops = set(stopwords.words(\"english\"))  \n",
    "    \n",
    "        #remove stop words\n",
    "        words = [w for w in words if not w in stops]\n",
    "    \n",
    "    #join words back together\n",
    "    #(this is just a long string of the words in the review)\n",
    "    return words"
   ]
  },
  {
   "cell_type": "code",
   "execution_count": 4,
   "metadata": {
    "collapsed": false,
    "deletable": true,
    "editable": true
   },
   "outputs": [
    {
     "name": "stderr",
     "output_type": "stream",
     "text": [
      "c:\\users\\jake\\anaconda3\\envs\\nnets\\lib\\site-packages\\gensim\\utils.py:855: UserWarning: detected Windows; aliasing chunkize to chunkize_serial\n",
      "  warnings.warn(\"detected Windows; aliasing chunkize to chunkize_serial\")\n"
     ]
    }
   ],
   "source": [
    "# import word2vec so we can build our model\n",
    "from gensim.models import word2vec\n",
    "from gensim.models import KeyedVectors\n",
    "# load nltk\n",
    "import nltk.data\n",
    "# load the tokenizer\n",
    "tokenizer = nltk.data.load('tokenizers/punkt/english.pickle')"
   ]
  },
  {
   "cell_type": "code",
   "execution_count": 5,
   "metadata": {
    "collapsed": true,
    "deletable": true,
    "editable": true
   },
   "outputs": [],
   "source": [
    "# Define a function to split a review into parsed sentences\n",
    "def text_to_sentences( review, tokenizer, remove_stopwords=False ):\n",
    "    # Function to split a review into parsed sentences. Returns a \n",
    "    # list of sentences, where each sentence is a list of words\n",
    "    #\n",
    "    # 1. Use the NLTK tokenizer to split the paragraph into sentences\n",
    "    raw_sentences = tokenizer.tokenize(review.strip())\n",
    "    #\n",
    "    # 2. Loop over each sentence\n",
    "    sentences = []\n",
    "    for raw_sentence in raw_sentences:\n",
    "        # If a sentence is empty, skip it\n",
    "        if len(raw_sentence) > 0:\n",
    "            # Otherwise, call review_to_wordlist to get a list of words\n",
    "            sentences.append( review_to_words( raw_sentence, \\\n",
    "              remove_stopwords ))\n",
    "    #\n",
    "    # Return the list of sentences (each sentence is a list of words,\n",
    "    # so this returns a list of lists\n",
    "    return sentences"
   ]
  },
  {
   "cell_type": "code",
   "execution_count": 6,
   "metadata": {
    "collapsed": true,
    "deletable": true,
    "editable": true
   },
   "outputs": [],
   "source": [
    "headline_len = 50\n",
    "article_len = 200\n",
    "dim = headline_len+article_len"
   ]
  },
  {
   "cell_type": "code",
   "execution_count": 7,
   "metadata": {
    "collapsed": true,
    "deletable": true,
    "editable": true
   },
   "outputs": [],
   "source": [
    "import logging\n",
    "logging.basicConfig(format='%(asctime)s : %(levelname)s : %(message)s',\\\n",
    "    level=logging.INFO)\n",
    "\n",
    "# Set values for various parameters\n",
    "num_features = 256   # Word vector dimensionality                      \n",
    "min_word_count = 1   # Minimum word count                        \n",
    "num_workers = -1       # Number of threads to run in parallel\n",
    "context = 5           # Context window size                                                                                    \n",
    "downsampling = 1e-3   # Downsample setting for frequent words\n"
   ]
  },
  {
   "cell_type": "code",
   "execution_count": 8,
   "metadata": {
    "collapsed": false,
    "deletable": true,
    "editable": true
   },
   "outputs": [
    {
     "name": "stdout",
     "output_type": "stream",
     "text": [
      "Parsing sentences from training set\n"
     ]
    },
    {
     "name": "stderr",
     "output_type": "stream",
     "text": [
      "c:\\users\\jake\\anaconda3\\envs\\nnets\\lib\\site-packages\\bs4\\__init__.py:219: UserWarning: \"b'...'\" looks like a filename, not markup. You shouldprobably open this file and pass the filehandle intoBeautiful Soup.\n",
      "  'Beautiful Soup.' % markup)\n",
      "c:\\users\\jake\\anaconda3\\envs\\nnets\\lib\\site-packages\\bs4\\__init__.py:219: UserWarning: \"b'.'\" looks like a filename, not markup. You shouldprobably open this file and pass the filehandle intoBeautiful Soup.\n",
      "  'Beautiful Soup.' % markup)\n"
     ]
    }
   ],
   "source": [
    "# prepare data for input to Word2Vec\n",
    "sentences = []\n",
    "\n",
    "print('Parsing sentences from training set')\n",
    "for i,row in train.iterrows():\n",
    "    headline = row['Headline']\n",
    "    articleBody = row['articleBody']\n",
    "    \n",
    "    headline = text_to_sentences(headline, tokenizer, False)\n",
    "    articleBody = text_to_sentences(articleBody, tokenizer, False)\n",
    "\n",
    "    combined = headline + articleBody\n",
    "    sentences += combined\n",
    "\n",
    "\n",
    "for i,row in test.iterrows():\n",
    "    headline = row['Headline']\n",
    "    articleBody = row['articleBody']\n",
    "    \n",
    "    headline = text_to_sentences(headline, tokenizer, True)\n",
    "    articleBody = text_to_sentences(articleBody, tokenizer, True)\n",
    "\n",
    "    combined = headline + articleBody\n",
    "    sentences += combined\n",
    "    "
   ]
  },
  {
   "cell_type": "code",
   "execution_count": 9,
   "metadata": {
    "collapsed": false,
    "deletable": true,
    "editable": true
   },
   "outputs": [
    {
     "name": "stdout",
     "output_type": "stream",
     "text": [
      "238514\n",
      "['it', 'begins', 'hazmat', 'wearing', 'passenger', 'spotted', 'at', 'airport']\n"
     ]
    }
   ],
   "source": [
    "print(len(sentences))\n",
    "print(sentences[0])"
   ]
  },
  {
   "cell_type": "code",
   "execution_count": 10,
   "metadata": {
    "collapsed": false,
    "deletable": true,
    "editable": true
   },
   "outputs": [
    {
     "name": "stderr",
     "output_type": "stream",
     "text": [
      "2017-04-24 17:30:04,399 : INFO : collecting all words and their counts\n",
      "2017-04-24 17:30:04,399 : INFO : PROGRESS: at sentence #0, processed 0 words, keeping 0 word types\n",
      "2017-04-24 17:30:04,441 : INFO : PROGRESS: at sentence #10000, processed 225169 words, keeping 10340 word types\n",
      "2017-04-24 17:30:04,473 : INFO : PROGRESS: at sentence #20000, processed 447736 words, keeping 12863 word types\n",
      "2017-04-24 17:30:04,505 : INFO : PROGRESS: at sentence #30000, processed 676463 words, keeping 14036 word types\n"
     ]
    },
    {
     "name": "stdout",
     "output_type": "stream",
     "text": [
      "Training model...\n"
     ]
    },
    {
     "name": "stderr",
     "output_type": "stream",
     "text": [
      "2017-04-24 17:30:04,535 : INFO : PROGRESS: at sentence #40000, processed 892427 words, keeping 14992 word types\n",
      "2017-04-24 17:30:04,566 : INFO : PROGRESS: at sentence #50000, processed 1112501 words, keeping 15686 word types\n",
      "2017-04-24 17:30:04,596 : INFO : PROGRESS: at sentence #60000, processed 1330515 words, keeping 16458 word types\n",
      "2017-04-24 17:30:04,625 : INFO : PROGRESS: at sentence #70000, processed 1561268 words, keeping 17199 word types\n",
      "2017-04-24 17:30:04,657 : INFO : PROGRESS: at sentence #80000, processed 1787971 words, keeping 17842 word types\n",
      "2017-04-24 17:30:04,686 : INFO : PROGRESS: at sentence #90000, processed 2013399 words, keeping 18356 word types\n",
      "2017-04-24 17:30:04,717 : INFO : PROGRESS: at sentence #100000, processed 2225637 words, keeping 18948 word types\n",
      "2017-04-24 17:30:04,745 : INFO : PROGRESS: at sentence #110000, processed 2449189 words, keeping 19388 word types\n",
      "2017-04-24 17:30:04,778 : INFO : PROGRESS: at sentence #120000, processed 2678543 words, keeping 19814 word types\n",
      "2017-04-24 17:30:04,804 : INFO : PROGRESS: at sentence #130000, processed 2889801 words, keeping 20203 word types\n",
      "2017-04-24 17:30:04,836 : INFO : PROGRESS: at sentence #140000, processed 3135502 words, keeping 20691 word types\n",
      "2017-04-24 17:30:04,877 : INFO : PROGRESS: at sentence #150000, processed 3365311 words, keeping 21042 word types\n",
      "2017-04-24 17:30:04,900 : INFO : PROGRESS: at sentence #160000, processed 3601985 words, keeping 21392 word types\n",
      "2017-04-24 17:30:04,939 : INFO : PROGRESS: at sentence #170000, processed 3842953 words, keeping 21606 word types\n",
      "2017-04-24 17:30:04,969 : INFO : PROGRESS: at sentence #180000, processed 4067328 words, keeping 21973 word types\n",
      "2017-04-24 17:30:04,999 : INFO : PROGRESS: at sentence #190000, processed 4294459 words, keeping 22285 word types\n",
      "2017-04-24 17:30:05,022 : INFO : PROGRESS: at sentence #200000, processed 4428226 words, keeping 22481 word types\n",
      "2017-04-24 17:30:05,043 : INFO : PROGRESS: at sentence #210000, processed 4553830 words, keeping 22543 word types\n",
      "2017-04-24 17:30:05,061 : INFO : PROGRESS: at sentence #220000, processed 4677714 words, keeping 22557 word types\n",
      "2017-04-24 17:30:05,083 : INFO : PROGRESS: at sentence #230000, processed 4808814 words, keeping 22565 word types\n",
      "2017-04-24 17:30:05,102 : INFO : collected 22571 word types from a corpus of 4923158 raw words and 238514 sentences\n",
      "2017-04-24 17:30:05,103 : INFO : Loading a fresh vocabulary\n",
      "2017-04-24 17:30:05,147 : INFO : min_count=1 retains 22571 unique words (100% of original 22571, drops 0)\n",
      "2017-04-24 17:30:05,147 : INFO : min_count=1 leaves 4923158 word corpus (100% of original 4923158, drops 0)\n",
      "2017-04-24 17:30:05,196 : INFO : deleting the raw counts dictionary of 22571 items\n",
      "2017-04-24 17:30:05,198 : INFO : sample=0.001 downsamples 37 most-common words\n",
      "2017-04-24 17:30:05,199 : INFO : downsampling leaves estimated 4038937 word corpus (82.0% of prior 4923158)\n",
      "2017-04-24 17:30:05,200 : INFO : estimated required memory for 22571 words and 256 dimensions: 57510908 bytes\n",
      "2017-04-24 17:30:05,265 : INFO : resetting layer weights\n",
      "2017-04-24 17:30:05,505 : INFO : training model with -1 workers on 22571 vocabulary and 256 features, using sg=0 hs=0 sample=0.001 negative=5 window=5\n",
      "2017-04-24 17:30:05,505 : INFO : expecting 238514 sentences, matching count from corpus used for vocabulary survey\n",
      "2017-04-24 17:30:05,514 : INFO : training on 0 raw words (0 effective words) took 0.0s, 0 effective words/s\n",
      "2017-04-24 17:30:05,545 : WARNING : supplied example count (0) did not equal expected count (1192570)\n"
     ]
    }
   ],
   "source": [
    "print(\"Training model...\")\n",
    "model = word2vec.Word2Vec(sentences, workers=num_workers, \\\n",
    "            size=num_features, min_count = min_word_count, \\\n",
    "            window = context, sample = downsampling)"
   ]
  },
  {
   "cell_type": "code",
   "execution_count": 11,
   "metadata": {
    "collapsed": false,
    "deletable": true,
    "editable": true
   },
   "outputs": [
    {
     "name": "stderr",
     "output_type": "stream",
     "text": [
      "2017-04-24 17:30:05,832 : INFO : precomputing L2-norms of word weight vectors\n"
     ]
    }
   ],
   "source": [
    "model.init_sims(replace=True)"
   ]
  },
  {
   "cell_type": "code",
   "execution_count": null,
   "metadata": {
    "collapsed": true,
    "deletable": true,
    "editable": true
   },
   "outputs": [],
   "source": []
  },
  {
   "cell_type": "code",
   "execution_count": null,
   "metadata": {
    "collapsed": true,
    "deletable": true,
    "editable": true
   },
   "outputs": [],
   "source": []
  },
  {
   "cell_type": "code",
   "execution_count": null,
   "metadata": {
    "collapsed": true,
    "deletable": true,
    "editable": true
   },
   "outputs": [],
   "source": []
  },
  {
   "cell_type": "code",
   "execution_count": null,
   "metadata": {
    "collapsed": true,
    "deletable": true,
    "editable": true
   },
   "outputs": [],
   "source": []
  },
  {
   "cell_type": "code",
   "execution_count": null,
   "metadata": {
    "collapsed": true,
    "deletable": true,
    "editable": true
   },
   "outputs": [],
   "source": []
  },
  {
   "cell_type": "code",
   "execution_count": null,
   "metadata": {
    "collapsed": true,
    "deletable": true,
    "editable": true
   },
   "outputs": [],
   "source": []
  },
  {
   "cell_type": "code",
   "execution_count": null,
   "metadata": {
    "collapsed": false,
    "deletable": true,
    "editable": true
   },
   "outputs": [],
   "source": []
  },
  {
   "cell_type": "code",
   "execution_count": 12,
   "metadata": {
    "collapsed": false,
    "deletable": true,
    "editable": true
   },
   "outputs": [
    {
     "name": "stdout",
     "output_type": "stream",
     "text": [
      "Converting training pairs to w2v\n"
     ]
    },
    {
     "name": "stderr",
     "output_type": "stream",
     "text": [
      "c:\\users\\jake\\anaconda3\\envs\\nnets\\lib\\site-packages\\bs4\\__init__.py:219: UserWarning: \"b'...'\" looks like a filename, not markup. You shouldprobably open this file and pass the filehandle intoBeautiful Soup.\n",
      "  'Beautiful Soup.' % markup)\n",
      "c:\\users\\jake\\anaconda3\\envs\\nnets\\lib\\site-packages\\bs4\\__init__.py:219: UserWarning: \"b'.'\" looks like a filename, not markup. You shouldprobably open this file and pass the filehandle intoBeautiful Soup.\n",
      "  'Beautiful Soup.' % markup)\n"
     ]
    }
   ],
   "source": [
    "train_X_tensor = np.zeros((len(train.index),headline_len+article_len,256))\n",
    "print('Converting training pairs to w2v')\n",
    "for i,row in train.iterrows():\n",
    "    headline = row['Headline']\n",
    "    articleBody = row['articleBody']\n",
    "    \n",
    "    headline = text_to_sentences(headline, tokenizer, False)\n",
    "    articleBody = text_to_sentences(articleBody, tokenizer, False)\n",
    "    \n",
    "    headline_w2v = np.zeros((headline_len,256))\n",
    "    i = 0\n",
    "    for sent in headline:\n",
    "        if len(sent) == 0:\n",
    "            continue\n",
    "        sent_w2v = model.wv[sent]\n",
    "        for vec in sent_w2v:\n",
    "            if i >= headline_len:\n",
    "                break\n",
    "            headline_w2v[i,:] = vec\n",
    "            i += 1\n",
    "        if i >= headline_len:\n",
    "            break\n",
    "    \n",
    "    article_w2v = np.zeros((article_len-1,256))\n",
    "    i=0\n",
    "    for sent in articleBody:\n",
    "        if len(sent) == 0:\n",
    "            continue\n",
    "        sent_w2v = model.wv[sent]\n",
    "        for vec in sent_w2v:\n",
    "            if i >= article_len-1:\n",
    "                break\n",
    "            article_w2v[i,:] = vec\n",
    "            i += 1\n",
    "        if i >= article_len-1:\n",
    "            break\n",
    "            \n",
    "    divider = np.array([-99]*256).reshape(1,256)\n",
    "    \n",
    "    headline_w2v = np.append(headline_w2v,divider, axis=0)\n",
    "    combined = np.append(headline_w2v,article_w2v, axis=0)\n",
    "    \n",
    "    train_X_tensor[i,:,:] = combined"
   ]
  },
  {
   "cell_type": "code",
   "execution_count": 13,
   "metadata": {
    "collapsed": false,
    "deletable": true,
    "editable": true
   },
   "outputs": [
    {
     "name": "stdout",
     "output_type": "stream",
     "text": [
      "(10724, 250, 256)\n"
     ]
    }
   ],
   "source": [
    "print(train_X_tensor.shape)"
   ]
  },
  {
   "cell_type": "code",
   "execution_count": 14,
   "metadata": {
    "collapsed": false,
    "deletable": true,
    "editable": true
   },
   "outputs": [
    {
     "name": "stdout",
     "output_type": "stream",
     "text": [
      "Converting test pairs to w2v\n"
     ]
    },
    {
     "name": "stderr",
     "output_type": "stream",
     "text": [
      "c:\\users\\jake\\anaconda3\\envs\\nnets\\lib\\site-packages\\bs4\\__init__.py:219: UserWarning: \"b'...'\" looks like a filename, not markup. You shouldprobably open this file and pass the filehandle intoBeautiful Soup.\n",
      "  'Beautiful Soup.' % markup)\n",
      "c:\\users\\jake\\anaconda3\\envs\\nnets\\lib\\site-packages\\bs4\\__init__.py:219: UserWarning: \"b'.'\" looks like a filename, not markup. You shouldprobably open this file and pass the filehandle intoBeautiful Soup.\n",
      "  'Beautiful Soup.' % markup)\n"
     ]
    }
   ],
   "source": [
    "test_X_tensor = np.zeros((len(test.index),headline_len+article_len,256))\n",
    "print('Converting test pairs to w2v')\n",
    "for i,row in test.iterrows():\n",
    "    headline = row['Headline']\n",
    "    articleBody = row['articleBody']\n",
    "    \n",
    "    headline = text_to_sentences(headline, tokenizer, False)\n",
    "    articleBody = text_to_sentences(articleBody, tokenizer, False)\n",
    "    \n",
    "    headline_w2v = np.zeros((headline_len,256))\n",
    "    i = 0\n",
    "    for sent in headline:\n",
    "        if len(sent) == 0:\n",
    "            continue\n",
    "        sent_w2v = model.wv[sent]\n",
    "        for vec in sent_w2v:\n",
    "            if i >= headline_len:\n",
    "                break\n",
    "            headline_w2v[i,:] = vec\n",
    "            i += 1\n",
    "        if i >= headline_len:\n",
    "            break\n",
    "    \n",
    "    article_w2v = np.zeros((article_len-1,256))\n",
    "    i=0\n",
    "    for sent in articleBody:\n",
    "        if len(sent) == 0:\n",
    "            continue\n",
    "        sent_w2v = model.wv[sent]\n",
    "        for vec in sent_w2v:\n",
    "            if i >= article_len-1:\n",
    "                break\n",
    "            article_w2v[i,:] = vec\n",
    "            i += 1\n",
    "        if i >= article_len-1:\n",
    "            break\n",
    "            \n",
    "    divider = np.array([-99]*256).reshape(1,256)\n",
    "    \n",
    "    headline_w2v = np.append(headline_w2v,divider, axis=0)\n",
    "    combined = np.append(headline_w2v,article_w2v, axis=0)\n",
    "    \n",
    "    test_X_tensor[i,:,:] = combined"
   ]
  },
  {
   "cell_type": "code",
   "execution_count": 15,
   "metadata": {
    "collapsed": true,
    "deletable": true,
    "editable": true
   },
   "outputs": [],
   "source": [
    "def make_response(stance):\n",
    "    \n",
    "    response = [0,0,0]\n",
    "    if stance == 'agree':\n",
    "        response[0] = 1\n",
    "    elif stance == 'disagree':\n",
    "        response[1] = 1\n",
    "    elif stance == 'disagree':\n",
    "        response[2] = 1\n",
    "    \n",
    "    return response"
   ]
  },
  {
   "cell_type": "code",
   "execution_count": 16,
   "metadata": {
    "collapsed": true,
    "deletable": true,
    "editable": true
   },
   "outputs": [],
   "source": [
    "y_train = train['Stance'].apply(make_response)\n",
    "y_train = np.matrix(y_train.tolist())\n",
    "y_test = test['Stance'].apply(make_response)\n",
    "y_test = np.matrix(y_test.tolist())"
   ]
  },
  {
   "cell_type": "code",
   "execution_count": 17,
   "metadata": {
    "collapsed": false,
    "deletable": true,
    "editable": true
   },
   "outputs": [
    {
     "name": "stderr",
     "output_type": "stream",
     "text": [
      "Using TensorFlow backend.\n"
     ]
    }
   ],
   "source": [
    "from keras.layers import Input, Dense, Dropout, Activation, BatchNormalization, Conv1D, Flatten\n",
    "from keras.initializers import RandomUniform\n",
    "from keras.optimizers import Adam\n",
    "from keras.layers.advanced_activations import LeakyReLU\n",
    "from keras.models import Model\n",
    "from keras import backend as K\n",
    "from keras import metrics\n",
    "import numpy as np\n",
    "from tqdm import tqdm"
   ]
  },
  {
   "cell_type": "code",
   "execution_count": 18,
   "metadata": {
    "collapsed": true,
    "deletable": true,
    "editable": true
   },
   "outputs": [],
   "source": [
    "vocab_size=1000"
   ]
  },
  {
   "cell_type": "code",
   "execution_count": 26,
   "metadata": {
    "collapsed": false,
    "deletable": true,
    "editable": true,
    "scrolled": true
   },
   "outputs": [
    {
     "name": "stdout",
     "output_type": "stream",
     "text": [
      "_________________________________________________________________\n",
      "Layer (type)                 Output Shape              Param #   \n",
      "=================================================================\n",
      "input_4 (InputLayer)         (None, 250, 256)          0         \n",
      "_________________________________________________________________\n",
      "flatten_4 (Flatten)          (None, 64000)             0         \n",
      "_________________________________________________________________\n",
      "dense_28 (Dense)             (None, 1000)              64001000  \n",
      "_________________________________________________________________\n",
      "batch_normalization_25 (Batc (None, 1000)              4000      \n",
      "_________________________________________________________________\n",
      "leaky_re_lu_25 (LeakyReLU)   (None, 1000)              0         \n",
      "_________________________________________________________________\n",
      "dropout_7 (Dropout)          (None, 1000)              0         \n",
      "_________________________________________________________________\n",
      "dense_29 (Dense)             (None, 500)               500500    \n",
      "_________________________________________________________________\n",
      "batch_normalization_26 (Batc (None, 500)               2000      \n",
      "_________________________________________________________________\n",
      "leaky_re_lu_26 (LeakyReLU)   (None, 500)               0         \n",
      "_________________________________________________________________\n",
      "dropout_8 (Dropout)          (None, 500)               0         \n",
      "_________________________________________________________________\n",
      "dense_30 (Dense)             (None, 250)               125250    \n",
      "_________________________________________________________________\n",
      "batch_normalization_27 (Batc (None, 250)               1000      \n",
      "_________________________________________________________________\n",
      "leaky_re_lu_27 (LeakyReLU)   (None, 250)               0         \n",
      "_________________________________________________________________\n",
      "dense_31 (Dense)             (None, 250)               62750     \n",
      "_________________________________________________________________\n",
      "batch_normalization_28 (Batc (None, 250)               1000      \n",
      "_________________________________________________________________\n",
      "leaky_re_lu_28 (LeakyReLU)   (None, 250)               0         \n",
      "_________________________________________________________________\n",
      "dense_32 (Dense)             (None, 250)               62750     \n",
      "_________________________________________________________________\n",
      "batch_normalization_29 (Batc (None, 250)               1000      \n",
      "_________________________________________________________________\n",
      "leaky_re_lu_29 (LeakyReLU)   (None, 250)               0         \n",
      "_________________________________________________________________\n",
      "dense_33 (Dense)             (None, 250)               62750     \n",
      "_________________________________________________________________\n",
      "batch_normalization_30 (Batc (None, 250)               1000      \n",
      "_________________________________________________________________\n",
      "leaky_re_lu_30 (LeakyReLU)   (None, 250)               0         \n",
      "_________________________________________________________________\n",
      "dense_34 (Dense)             (None, 62)                15562     \n",
      "_________________________________________________________________\n",
      "batch_normalization_31 (Batc (None, 62)                248       \n",
      "_________________________________________________________________\n",
      "leaky_re_lu_31 (LeakyReLU)   (None, 62)                0         \n",
      "_________________________________________________________________\n",
      "dense_35 (Dense)             (None, 31)                1953      \n",
      "_________________________________________________________________\n",
      "batch_normalization_32 (Batc (None, 31)                124       \n",
      "_________________________________________________________________\n",
      "leaky_re_lu_32 (LeakyReLU)   (None, 31)                0         \n",
      "_________________________________________________________________\n",
      "dense_36 (Dense)             (None, 3)                 96        \n",
      "_________________________________________________________________\n",
      "activation_4 (Activation)    (None, 3)                 0         \n",
      "=================================================================\n",
      "Total params: 64,842,983.0\n",
      "Trainable params: 64,837,797.0\n",
      "Non-trainable params: 5,186.0\n",
      "_________________________________________________________________\n"
     ]
    }
   ],
   "source": [
    "MLP_input = Input(shape=train_X_tensor.shape[1:])\n",
    "layer = Flatten()(MLP_input)\n",
    "layer = Dense(vocab_size, kernel_initializer='glorot_normal')(layer)\n",
    "layer = BatchNormalization()(layer)\n",
    "layer = LeakyReLU(0.2)(layer)\n",
    "layer = Dropout(0.5)(layer)\n",
    "\n",
    "layer = Dense(vocab_size//2, kernel_initializer='glorot_normal')(layer)\n",
    "layer = BatchNormalization()(layer)\n",
    "layer = LeakyReLU(0.2)(layer)\n",
    "layer = Dropout(0.5)(layer)\n",
    "\n",
    "layer = Dense(vocab_size//4, kernel_initializer='glorot_normal')(layer)\n",
    "layer = BatchNormalization()(layer)\n",
    "layer = LeakyReLU(0.2)(layer)\n",
    "#layer = Dropout(0.5)(layer)\n",
    "\n",
    "layer = Dense(vocab_size//4, kernel_initializer='glorot_normal')(layer)\n",
    "layer = BatchNormalization()(layer)\n",
    "layer = LeakyReLU(0.2)(layer)\n",
    "#layer = Dropout(0.5)(layer)\n",
    "\n",
    "layer = Dense(vocab_size//4, kernel_initializer='glorot_normal')(layer)\n",
    "layer = BatchNormalization()(layer)\n",
    "layer = LeakyReLU(0.2)(layer)\n",
    "#layer = Dropout(0.5)(layer)\n",
    "\n",
    "layer = Dense(vocab_size//4, kernel_initializer='glorot_normal')(layer)\n",
    "layer = BatchNormalization()(layer)\n",
    "layer = LeakyReLU(0.2)(layer)\n",
    "#layer = Dropout(0.5)(layer)\n",
    "\n",
    "layer = Dense(vocab_size//16, kernel_initializer='glorot_normal')(layer)\n",
    "layer = BatchNormalization()(layer)\n",
    "layer = LeakyReLU(0.2)(layer)\n",
    "#layer = Dropout(0.5)(layer)\n",
    "\n",
    "layer = Dense(vocab_size//32, kernel_initializer='glorot_normal')(layer)\n",
    "layer = BatchNormalization()(layer)\n",
    "layer = LeakyReLU(0.2)(layer)\n",
    "\n",
    "layer = Dense(3, kernel_initializer='glorot_normal')(layer)\n",
    "out = Activation('sigmoid')(layer)\n",
    "\n",
    "opt = Adam(lr=1e-4)\n",
    "MLP = Model(MLP_input, out)\n",
    "MLP.compile(loss='categorical_crossentropy', optimizer=opt, metrics=[metrics.categorical_accuracy])\n",
    "MLP.summary()"
   ]
  },
  {
   "cell_type": "code",
   "execution_count": 27,
   "metadata": {
    "collapsed": false,
    "deletable": true,
    "editable": true
   },
   "outputs": [
    {
     "name": "stdout",
     "output_type": "stream",
     "text": [
      "Epoch 1/10\n",
      "30s - loss: 0.3354 - categorical_accuracy: 0.6404\n",
      "Epoch 2/10\n",
      "28s - loss: 0.2886 - categorical_accuracy: 0.8661\n",
      "Epoch 3/10\n",
      "28s - loss: 0.2566 - categorical_accuracy: 0.9289\n",
      "Epoch 4/10\n",
      "28s - loss: 0.2312 - categorical_accuracy: 0.9368\n",
      "Epoch 5/10\n",
      "28s - loss: 0.2129 - categorical_accuracy: 0.9375\n",
      "Epoch 6/10\n",
      "28s - loss: 0.1987 - categorical_accuracy: 0.9376\n",
      "Epoch 7/10\n",
      "28s - loss: 0.1893 - categorical_accuracy: 0.9376\n",
      "Epoch 8/10\n",
      "28s - loss: 0.1818 - categorical_accuracy: 0.9376\n",
      "Epoch 9/10\n",
      "28s - loss: 0.1786 - categorical_accuracy: 0.9376\n",
      "Epoch 10/10\n",
      "31s - loss: 0.1738 - categorical_accuracy: 0.9376\n"
     ]
    }
   ],
   "source": [
    "hist=MLP.fit(train_X_tensor, y_train,\n",
    "        epochs=10,\n",
    "        batch_size=32,\n",
    "        shuffle=True,\n",
    "        verbose=2)"
   ]
  },
  {
   "cell_type": "code",
   "execution_count": 28,
   "metadata": {
    "collapsed": false,
    "deletable": true,
    "editable": true
   },
   "outputs": [],
   "source": [
    "loss = hist.history['loss']\n",
    "acc = hist.history['categorical_accuracy']"
   ]
  },
  {
   "cell_type": "code",
   "execution_count": 29,
   "metadata": {
    "collapsed": false,
    "deletable": true,
    "editable": true
   },
   "outputs": [
    {
     "data": {
      "image/png": "[encoded data removed]",
      "text/plain": [
       "<matplotlib.figure.Figure at 0x13f92aec208>"
      ]
     },
     "metadata": {},
     "output_type": "display_data"
    }
   ],
   "source": [
    "plt.plot(loss)\n",
    "plt.title('w2v MLP Multi-Clf Loss')\n",
    "plt.xlabel('epoch')\n",
    "plt.ylabel('loss')\n",
    "plt.savefig('w2vMLPMultiLoss.png')\n",
    "plt.show()"
   ]
  },
  {
   "cell_type": "code",
   "execution_count": 30,
   "metadata": {
    "collapsed": false,
    "deletable": true,
    "editable": true
   },
   "outputs": [
    {
     "data": {
      "image/png": "[encoded data removed]",
      "text/plain": [
       "<matplotlib.figure.Figure at 0x13f9b9570f0>"
      ]
     },
     "metadata": {},
     "output_type": "display_data"
    }
   ],
   "source": [
    "plt.plot(acc)\n",
    "plt.title('w2v MLP Multi-Clf Accuracy')\n",
    "plt.xlabel('epoch')\n",
    "plt.ylabel('accuracy')\n",
    "plt.savefig('w2vMLPMultiAcc.png')\n",
    "plt.show()"
   ]
  },
  {
   "cell_type": "code",
   "execution_count": 31,
   "metadata": {
    "collapsed": true,
    "deletable": true,
    "editable": true
   },
   "outputs": [],
   "source": [
    "y_hat = MLP.predict(test_X_tensor)\n",
    "test['agree']=y_hat[:,0]\n",
    "test['disagree']=y_hat[:,1]\n",
    "test['discuss']=y_hat[:,2]\n",
    "\n",
    "test.to_csv('w2vMLPMulti.csv',index=False)"
   ]
  },
  {
   "cell_type": "code",
   "execution_count": 34,
   "metadata": {
    "collapsed": true
   },
   "outputs": [],
   "source": [
    "def get_class_label(scores):\n",
    "    if scores[0] > scores[1] and scores[0] > scores[2]:\n",
    "        label='agree'\n",
    "    elif scores[1] > scores[0] and scores[1] > scores[2]:\n",
    "        label='disagree'\n",
    "    else:\n",
    "        label='discuss'\n",
    "    return label"
   ]
  },
  {
   "cell_type": "code",
   "execution_count": 37,
   "metadata": {
    "collapsed": false
   },
   "outputs": [
    {
     "name": "stdout",
     "output_type": "stream",
     "text": [
      "             0             1         2\n",
      "0     0.754700  2.762967e-01  0.040253\n",
      "1     0.754700  2.762967e-01  0.040253\n",
      "2     0.754700  2.762967e-01  0.040253\n",
      "3     0.754700  2.762967e-01  0.040253\n",
      "4     0.754700  2.762967e-01  0.040253\n",
      "5     0.754700  2.762967e-01  0.040253\n",
      "6     0.754700  2.762967e-01  0.040253\n",
      "7     0.754700  2.762967e-01  0.040253\n",
      "8     0.576572  1.384087e-08  0.000010\n",
      "9     0.572129  1.384937e-08  0.000010\n",
      "10    0.754700  2.762967e-01  0.040253\n",
      "11    0.581202  1.447788e-08  0.000010\n",
      "12    0.579196  1.361654e-08  0.000010\n",
      "13    0.580439  1.401709e-08  0.000010\n",
      "14    0.575149  1.313465e-08  0.000010\n",
      "15    0.575770  1.359329e-08  0.000010\n",
      "16    0.578665  1.316696e-08  0.000010\n",
      "17    0.575320  1.384546e-08  0.000010\n",
      "18    0.754700  2.762967e-01  0.040253\n",
      "19    0.577359  1.354531e-08  0.000010\n",
      "20    0.577629  1.375310e-08  0.000010\n",
      "21    0.583313  1.352979e-08  0.000010\n",
      "22    0.579142  1.312929e-08  0.000010\n",
      "23    0.572689  1.380180e-08  0.000010\n",
      "24    0.754700  2.762967e-01  0.040253\n",
      "25    0.754700  2.762967e-01  0.040253\n",
      "26    0.754700  2.762967e-01  0.040253\n",
      "27    0.579483  1.363476e-08  0.000009\n",
      "28    0.754700  2.762967e-01  0.040253\n",
      "29    0.580816  1.381586e-08  0.000010\n",
      "...        ...           ...       ...\n",
      "2673  0.754700  2.762967e-01  0.040253\n",
      "2674  0.754700  2.762967e-01  0.040253\n",
      "2675  0.754700  2.762967e-01  0.040253\n",
      "2676  0.754700  2.762967e-01  0.040253\n",
      "2677  0.754700  2.762967e-01  0.040253\n",
      "2678  0.754700  2.762967e-01  0.040253\n",
      "2679  0.754700  2.762967e-01  0.040253\n",
      "2680  0.754700  2.762967e-01  0.040253\n",
      "2681  0.754700  2.762967e-01  0.040253\n",
      "2682  0.754700  2.762967e-01  0.040253\n",
      "2683  0.754700  2.762967e-01  0.040253\n",
      "2684  0.754700  2.762967e-01  0.040253\n",
      "2685  0.754700  2.762967e-01  0.040253\n",
      "2686  0.754700  2.762967e-01  0.040253\n",
      "2687  0.754700  2.762967e-01  0.040253\n",
      "2688  0.754700  2.762967e-01  0.040253\n",
      "2689  0.754700  2.762967e-01  0.040253\n",
      "2690  0.754700  2.762967e-01  0.040253\n",
      "2691  0.754700  2.762967e-01  0.040253\n",
      "2692  0.754700  2.762967e-01  0.040253\n",
      "2693  0.754700  2.762967e-01  0.040253\n",
      "2694  0.754700  2.762967e-01  0.040253\n",
      "2695  0.754700  2.762967e-01  0.040253\n",
      "2696  0.754700  2.762967e-01  0.040253\n",
      "2697  0.754700  2.762967e-01  0.040253\n",
      "2698  0.754700  2.762967e-01  0.040253\n",
      "2699  0.754700  2.762967e-01  0.040253\n",
      "2700  0.754700  2.762967e-01  0.040253\n",
      "2701  0.754700  2.762967e-01  0.040253\n",
      "2702  0.754700  2.762967e-01  0.040253\n",
      "\n",
      "[2703 rows x 3 columns]\n",
      "0       agree\n",
      "1       agree\n",
      "2       agree\n",
      "3       agree\n",
      "4       agree\n",
      "5       agree\n",
      "6       agree\n",
      "7       agree\n",
      "8       agree\n",
      "9       agree\n",
      "10      agree\n",
      "11      agree\n",
      "12      agree\n",
      "13      agree\n",
      "14      agree\n",
      "15      agree\n",
      "16      agree\n",
      "17      agree\n",
      "18      agree\n",
      "19      agree\n",
      "20      agree\n",
      "21      agree\n",
      "22      agree\n",
      "23      agree\n",
      "24      agree\n",
      "25      agree\n",
      "26      agree\n",
      "27      agree\n",
      "28      agree\n",
      "29      agree\n",
      "        ...  \n",
      "2673    agree\n",
      "2674    agree\n",
      "2675    agree\n",
      "2676    agree\n",
      "2677    agree\n",
      "2678    agree\n",
      "2679    agree\n",
      "2680    agree\n",
      "2681    agree\n",
      "2682    agree\n",
      "2683    agree\n",
      "2684    agree\n",
      "2685    agree\n",
      "2686    agree\n",
      "2687    agree\n",
      "2688    agree\n",
      "2689    agree\n",
      "2690    agree\n",
      "2691    agree\n",
      "2692    agree\n",
      "2693    agree\n",
      "2694    agree\n",
      "2695    agree\n",
      "2696    agree\n",
      "2697    agree\n",
      "2698    agree\n",
      "2699    agree\n",
      "2700    agree\n",
      "2701    agree\n",
      "2702    agree\n",
      "dtype: object\n"
     ]
    }
   ],
   "source": [
    "y_hat_df = pd.DataFrame(y_hat)\n",
    "print(y_hat_df)\n",
    "labels = y_hat_df.apply(get_class_label,axis=1)\n",
    "print(labels)"
   ]
  },
  {
   "cell_type": "code",
   "execution_count": 40,
   "metadata": {
    "collapsed": false
   },
   "outputs": [
    {
     "data": {
      "text/plain": [
       "0.26637069922308548"
      ]
     },
     "execution_count": 40,
     "metadata": {},
     "output_type": "execute_result"
    }
   ],
   "source": [
    "confusion_matrix(test['Stance'],labels)\n",
    "accuracy_score(test['Stance'],labels)"
   ]
  },
  {
   "cell_type": "code",
   "execution_count": 32,
   "metadata": {
    "collapsed": true,
    "deletable": true,
    "editable": true
   },
   "outputs": [],
   "source": [
    "from sklearn.metrics import auc, roc_curve, confusion_matrix, accuracy_score"
   ]
  },
  {
   "cell_type": "code",
   "execution_count": 34,
   "metadata": {
    "collapsed": true,
    "deletable": true,
    "editable": true
   },
   "outputs": [],
   "source": [
    "tpr, fpr, _ = roc_curve(y_test, y_hat)\n",
    "roc_auc = auc(fpr,tpr)"
   ]
  },
  {
   "cell_type": "code",
   "execution_count": 35,
   "metadata": {
    "collapsed": false,
    "deletable": true,
    "editable": true
   },
   "outputs": [
    {
     "data": {
      "image/png": "[encoded data removed]",
      "text/plain": [
       "<matplotlib.figure.Figure at 0x22d11e75240>"
      ]
     },
     "metadata": {},
     "output_type": "display_data"
    }
   ],
   "source": [
    "plt.plot(fpr, tpr, color='darkorange', lw=2,\n",
    "         label='w2v MLP ROC (AUC = %0.4f)' % roc_auc,\n",
    "         linestyle='--')\n",
    "plt.plot([0,1],[0,1], color='navy', lw=2, linestyle='--')\n",
    "plt.xlim([0.0, 1.0])\n",
    "plt.ylim([0.0, 1.05])\n",
    "plt.xlabel('False Positive Rate')\n",
    "plt.ylabel('True Positive Rate')\n",
    "plt.title('Model ROC Comparison')\n",
    "plt.legend(loc=\"lower right\")\n",
    "plt.savefig('w2vMLPROC.png')\n",
    "plt.show()"
   ]
  },
  {
   "cell_type": "code",
   "execution_count": 37,
   "metadata": {
    "collapsed": false,
    "deletable": true,
    "editable": true
   },
   "outputs": [
    {
     "name": "stdout",
     "output_type": "stream",
     "text": [
      "1.24994 0.731498956988\n",
      "0.249944 0.731498956988\n",
      "4.8515e-25 0.280421178107\n",
      "4.8067e-25 0.280321843648\n",
      "4.38639e-25 0.279427833515\n",
      "4.38121e-25 0.279328499056\n",
      "4.07387e-25 0.27555378961\n",
      "4.04957e-25 0.27545445515\n",
      "3.95246e-25 0.273666434886\n",
      "3.93976e-25 0.273567100427\n",
      "6.3863e-26 0.268600377471\n"
     ]
    }
   ],
   "source": [
    "for cut in _:\n",
    "    labels = y_hat > cut\n",
    "    labels = [int(i) for i in labels]\n",
    "    print(cut, accuracy_score(y_test,labels))"
   ]
  },
  {
   "cell_type": "code",
   "execution_count": 38,
   "metadata": {
    "collapsed": true,
    "deletable": true,
    "editable": true
   },
   "outputs": [],
   "source": [
    "labels = y_hat > 1.24994\n",
    "labels = [int(i) for i in labels]\n",
    "test['w2vMLP'] = labels\n",
    "test.to_csv('w2vMLPBinary.csv', index=False)"
   ]
  },
  {
   "cell_type": "code",
   "execution_count": null,
   "metadata": {
    "collapsed": true,
    "deletable": true,
    "editable": true
   },
   "outputs": [],
   "source": []
  }
 ],
 "metadata": {
  "kernelspec": {
   "display_name": "Python 3",
   "language": "python",
   "name": "python3"
  },
  "language_info": {
   "codemirror_mode": {
    "name": "ipython",
    "version": 3
   },
   "file_extension": ".py",
   "mimetype": "text/x-python",
   "name": "python",
   "nbconvert_exporter": "python",
   "pygments_lexer": "ipython3",
   "version": "3.5.3"
  }
 },
 "nbformat": 4,
 "nbformat_minor": 2
}
